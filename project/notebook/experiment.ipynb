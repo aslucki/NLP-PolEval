{
 "cells": [
  {
   "cell_type": "markdown",
   "metadata": {},
   "source": [
    "# PolEval Task 6.1\n",
    "This notebook is the proposed solution to the 6th task of PolEval 2019 challenge.  \n",
    "http://poleval.pl/tasks/task6\n",
    "\n",
    "The goal of the contestants will be to classify the tweets into cyberbullying/harmful and non-cyberbullying/non-harmful with the highest possible Precision, Recall, balanced F-score and Accuracy. In an additional sub-task, the contestants will differentiate between various types of cyberbullying, i.e., revealing of private information, personal threats, blackmails, ridiculing, gossip/insinuations, or accumulation of vulgarities and profane language."
   ]
  },
  {
   "cell_type": "code",
   "execution_count": 1,
   "metadata": {},
   "outputs": [],
   "source": [
    "import pickle\n",
    "import re\n",
    "import os\n",
    "\n",
    "import fasttext\n",
    "import matplotlib.pyplot as plt\n",
    "%matplotlib inline\n",
    "import numpy as np\n",
    "\n",
    "from sklearn.manifold import TSNE\n",
    "from sklearn.preprocessing import StandardScaler\n",
    "from sklearn.svm import LinearSVC\n",
    "from sklearn.model_selection import GridSearchCV\n",
    "from sklearn.metrics import (confusion_matrix, accuracy_score,\n",
    "                             f1_score, recall_score, precision_score)"
   ]
  },
  {
   "cell_type": "markdown",
   "metadata": {},
   "source": [
    "# Load data"
   ]
  },
  {
   "cell_type": "code",
   "execution_count": 2,
   "metadata": {},
   "outputs": [],
   "source": [
    "def load_tweets(path):\n",
    "    with open(path, 'r', encoding='utf-8') as f:\n",
    "        tweets = f.readlines()\n",
    "    return tweets\n",
    "\n",
    "def load_labels(path):\n",
    "    with open(path, 'r') as f:\n",
    "        labels = []\n",
    "        for line in f.readlines():\n",
    "            labels.append(int(line.strip()))\n",
    "    return labels"
   ]
  },
  {
   "cell_type": "code",
   "execution_count": 3,
   "metadata": {},
   "outputs": [],
   "source": [
    "DATA_PATH = os.path.join(os.sep, 'project', 'data')\n",
    "\n",
    "training_tweets = load_tweets(os.path.join(DATA_PATH, 'training_set_clean_only_text.txt'))\n",
    "training_labels = load_labels(os.path.join(DATA_PATH, 'training_set_clean_only_tags.txt'))\n",
    "\n",
    "testing_tweets = load_tweets(os.path.join(DATA_PATH,\n",
    "                                          'evaluation',\n",
    "                                          'test_set_clean_only_text.txt'))\n",
    "testing_labels = load_labels(os.path.join(DATA_PATH,\n",
    "                                          'evaluation',\n",
    "                                          'test_set_clean_only_tags.txt'))"
   ]
  },
  {
   "cell_type": "markdown",
   "metadata": {},
   "source": [
    "# Load embedding model"
   ]
  },
  {
   "cell_type": "code",
   "execution_count": 4,
   "metadata": {},
   "outputs": [],
   "source": [
    "model = fasttext.load_model('../model.bin')"
   ]
  },
  {
   "cell_type": "markdown",
   "metadata": {},
   "source": [
    "# Data exploration"
   ]
  },
  {
   "cell_type": "markdown",
   "metadata": {},
   "source": [
    "## Classes"
   ]
  },
  {
   "cell_type": "code",
   "execution_count": 5,
   "metadata": {},
   "outputs": [
    {
     "data": {
      "text/plain": [
       "Text(0.5, 0, 'Class')"
      ]
     },
     "execution_count": 5,
     "metadata": {},
     "output_type": "execute_result"
    },
    {
     "data": {
      "image/png": "[encoded data removed]",
      "text/plain": [
       "<Figure size 432x288 with 1 Axes>"
      ]
     },
     "metadata": {
      "needs_background": "light"
     },
     "output_type": "display_data"
    }
   ],
   "source": [
    "plt.hist(training_labels);\n",
    "plt.title('Histogram of classes')\n",
    "plt.ylabel('Count')\n",
    "plt.xlabel('Class')"
   ]
  },
  {
   "cell_type": "code",
   "execution_count": 6,
   "metadata": {},
   "outputs": [
    {
     "name": "stdout",
     "output_type": "stream",
     "text": [
      "Harmful tweets make 8.48% of training data\n"
     ]
    }
   ],
   "source": [
    "percentage_of_harmful = round(sum(training_labels)/len(training_labels)*100,2)\n",
    "print(\"Harmful tweets make {}% of training data\".format(percentage_of_harmful))"
   ]
  },
  {
   "cell_type": "markdown",
   "metadata": {},
   "source": [
    "We see that harmful tweets make only ~8.5% of all the training data meaning that the dataset is highly unbalanced. Thus, we should take it into the consideration when training the classifier and evaluating it. The standard metric, namely the accuracy won't be suitable here as with such distribution of clasess we could achieve above 90% accuraccy simply by assigining the majority class to all observations. "
   ]
  },
  {
   "cell_type": "markdown",
   "metadata": {},
   "source": [
    "## Features\n",
    "Tweets embedded in 100 dimensional space using the FastText model\n",
    "trained on texts scraped from Polish websites."
   ]
  },
  {
   "cell_type": "code",
   "execution_count": 7,
   "metadata": {},
   "outputs": [],
   "source": [
    "def clean_tweet(tweet: str) -> str:\n",
    "    \"\"\"\n",
    "    Removes non alpha characters and \n",
    "    `@anonymized_account` tokens.\n",
    "    \"\"\"\n",
    "    \n",
    "    cleaned = tweet.lower()\n",
    "    cleaned = re.sub('@anonymized_account', '', cleaned)\n",
    "    cleaned = re.sub(r'[\\d+]|[^\\w\\s]', '',\n",
    "                     cleaned).strip()\n",
    "    \n",
    "    return cleaned\n",
    "\n",
    "\n",
    "def tokenize(tweet: str) -> list:\n",
    "    return tweet.split()\n",
    "\n",
    "\n",
    "def vectorize_tokens(tokens: list, model) -> np.array: \n",
    "    \"\"\"\n",
    "    Embedds individual words in high dimensional space\n",
    "    and returns averaged representation of them.\n",
    "    \"\"\"\n",
    "    \n",
    "    embeddings = []\n",
    "    for token in tokens:\n",
    "        embedding = model[token]\n",
    "        embeddings.append(embedding)\n",
    "    \n",
    "    if len(embeddings) == 0:\n",
    "        embeddings = [0] * len(model['a'])\n",
    "    \n",
    "    embeddings = np.asarray(embeddings)\n",
    "    \n",
    "    return np.mean(embeddings, axis=0)\n",
    "\n",
    "\n",
    "def embedd_tweets(tweets: list, n_dimensions=100) -> np.array:\n",
    "    \"\"\"\n",
    "    Returns averaged embedding for each tweet\n",
    "    in the list.\n",
    "    \"\"\"\n",
    "    \n",
    "    embedded_tweets = np.zeros(shape=(len(tweets), n_dimensions))\n",
    "    for i, tweet in enumerate(tweets):\n",
    "        cleaned = clean_tweet(tweet)\n",
    "        tokens = tokenize(cleaned)\n",
    "        embedded_tweet = vectorize_tokens(tokens, model)\n",
    "\n",
    "        embedded_tweets[i] = embedded_tweet\n",
    "        \n",
    "    return embedded_tweets"
   ]
  },
  {
   "cell_type": "code",
   "execution_count": 9,
   "metadata": {},
   "outputs": [],
   "source": [
    "embedded_tweets_training = embedd_tweets(training_tweets)"
   ]
  },
  {
   "cell_type": "markdown",
   "metadata": {},
   "source": [
    "### Visualise features in two-dimensional space"
   ]
  },
  {
   "cell_type": "code",
   "execution_count": 10,
   "metadata": {},
   "outputs": [],
   "source": [
    "reduced = TSNE(n_components=2).fit_transform(embedded_tweets_training)"
   ]
  },
  {
   "cell_type": "code",
   "execution_count": 12,
   "metadata": {},
   "outputs": [
    {
     "data": {
      "text/plain": [
       "Text(0.5, 1.0, 'Visualisation of tweets embeddings (T-SNE)')"
      ]
     },
     "execution_count": 12,
     "metadata": {},
     "output_type": "execute_result"
    },
    {
     "data": {
      "image/png": "[encoded data removed]",
      "text/plain": [
       "<Figure size 432x288 with 1 Axes>"
      ]
     },
     "metadata": {
      "needs_background": "light"
     },
     "output_type": "display_data"
    }
   ],
   "source": [
    "for class_ in np.unique(training_labels):\n",
    "    class_points = reduced[training_labels == class_]\n",
    "    plt.scatter(class_points[:, 0],\n",
    "                class_points[:,1], label=class_)\n",
    "plt.legend()\n",
    "plt.title(\"Visualisation of tweets embeddings (T-SNE)\")"
   ]
  },
  {
   "cell_type": "markdown",
   "metadata": {},
   "source": [
    "Features don't seem to be easily separable."
   ]
  },
  {
   "cell_type": "markdown",
   "metadata": {},
   "source": [
    "# Training"
   ]
  },
  {
   "cell_type": "code",
   "execution_count": 13,
   "metadata": {},
   "outputs": [],
   "source": [
    "svm = LinearSVC(random_state=42, max_iter=10000, class_weight='balanced')"
   ]
  },
  {
   "cell_type": "code",
   "execution_count": 14,
   "metadata": {},
   "outputs": [],
   "source": [
    "clf = GridSearchCV(svm,\n",
    "                   param_grid={'C': [2**x for x in range(-8, 8, 2)]},\n",
    "                   scoring='f1',\n",
    "                   cv=5, n_jobs=10, verbose=1)"
   ]
  },
  {
   "cell_type": "code",
   "execution_count": 16,
   "metadata": {},
   "outputs": [
    {
     "name": "stdout",
     "output_type": "stream",
     "text": [
      "Fitting 5 folds for each of 8 candidates, totalling 40 fits\n"
     ]
    },
    {
     "name": "stderr",
     "output_type": "stream",
     "text": [
      "[Parallel(n_jobs=10)]: Using backend LokyBackend with 10 concurrent workers.\n",
      "[Parallel(n_jobs=10)]: Done  40 out of  40 | elapsed:  3.1min finished\n"
     ]
    },
    {
     "data": {
      "text/plain": [
       "GridSearchCV(cv=5, error_score='raise-deprecating',\n",
       "             estimator=LinearSVC(C=1.0, class_weight='balanced', dual=True,\n",
       "                                 fit_intercept=True, intercept_scaling=1,\n",
       "                                 loss='squared_hinge', max_iter=10000,\n",
       "                                 multi_class='ovr', penalty='l2',\n",
       "                                 random_state=42, tol=0.0001, verbose=0),\n",
       "             iid='warn', n_jobs=10,\n",
       "             param_grid={'C': [0.00390625, 0.015625, 0.0625, 0.25, 1, 4, 16,\n",
       "                               64]},\n",
       "             pre_dispatch='2*n_jobs', refit=True, return_train_score=False,\n",
       "             scoring='f1', verbose=1)"
      ]
     },
     "execution_count": 16,
     "metadata": {},
     "output_type": "execute_result"
    }
   ],
   "source": [
    "clf.fit(embedded_tweets_training, training_labels)"
   ]
  },
  {
   "cell_type": "code",
   "execution_count": 17,
   "metadata": {},
   "outputs": [],
   "source": [
    "with open('classifier.pkl', 'wb') as f:\n",
    "    pickle.dump(clf, f)"
   ]
  },
  {
   "cell_type": "markdown",
   "metadata": {},
   "source": [
    "# Evaluation"
   ]
  },
  {
   "cell_type": "code",
   "execution_count": 18,
   "metadata": {},
   "outputs": [],
   "source": [
    "embedded_tweets_test = embedd_tweets(testing_tweets)"
   ]
  },
  {
   "cell_type": "code",
   "execution_count": 19,
   "metadata": {},
   "outputs": [],
   "source": [
    "preds = clf.predict(embedded_tweets_test)\n",
    "with open(os.path.join(DATA_PATH, 'evaluation', 'predictions.txt'), 'w') as f:\n",
    "    f.writelines(\"\\n\".join([str(x) for x in preds.tolist()]))"
   ]
  },
  {
   "cell_type": "code",
   "execution_count": 20,
   "metadata": {},
   "outputs": [],
   "source": [
    "cm = confusion_matrix(y_pred=preds, y_true=testing_labels)\n",
    "accuracy = accuracy_score(y_pred=preds, y_true=testing_labels)\n",
    "recall = recall_score(y_pred=preds, y_true=testing_labels)\n",
    "precision = precision_score(y_pred=preds, y_true=testing_labels)\n",
    "f1 = f1_score(y_pred=preds, y_true=testing_labels)"
   ]
  },
  {
   "cell_type": "code",
   "execution_count": 21,
   "metadata": {},
   "outputs": [
    {
     "name": "stdout",
     "output_type": "stream",
     "text": [
      "[[648 218]\n",
      " [ 47  87]]\n",
      "Accuracy:  0.735\n",
      "Recall:  0.6492537313432836\n",
      "Precision:  0.28524590163934427\n",
      "f1:  0.39635535307517084\n"
     ]
    }
   ],
   "source": [
    "print(cm)\n",
    "print(\"Accuracy: \", accuracy)\n",
    "print(\"Recall: \", recall)\n",
    "print(\"Precision: \", precision)\n",
    "print(\"f1: \", f1)"
   ]
  },
  {
   "cell_type": "markdown",
   "metadata": {},
   "source": [
    "# Conculsion\n",
    "Our solution is able to \"find\" around 65% of harmful tweets among all tweets in the test set. At the same time\n",
    "it correctly identifies tweet as harmful in 28% of cases meaning that we ofthen classifies tweet as harmful although it actually is unharmful. "
   ]
  }
 ],
 "metadata": {
  "kernelspec": {
   "display_name": "Python 3",
   "language": "python",
   "name": "python3"
  },
  "language_info": {
   "codemirror_mode": {
    "name": "ipython",
    "version": 3
   },
   "file_extension": ".py",
   "mimetype": "text/x-python",
   "name": "python",
   "nbconvert_exporter": "python",
   "pygments_lexer": "ipython3",
   "version": "3.6.7"
  }
 },
 "nbformat": 4,
 "nbformat_minor": 2
}
